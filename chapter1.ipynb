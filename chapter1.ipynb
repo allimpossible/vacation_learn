{
 "cells": [
  {
   "cell_type": "markdown",
   "metadata": {},
   "source": [
    "# 前言\n",
    "之前的暑假里有学过python，因为当初有了c语言的基础，所以看了某个网课后觉得很膨胀，学的很随性，并且该课程的内容也有限，自己还没有做笔记，于是就有很多东西不清楚或者是不了解。真正做起项目（其实就是作业）的时候经常搞忘东西，现查找花费的时间较多。虽说不一定程序员要对计算机世界中的什么东西都很熟悉，这是不可能的，不会的东西还是要去学习的。但是如果学会了不记下来很快就会忘，想想我光“文件处理”相关的我就反复查了很多遍，写了就忘，写了就忘，满满的泪啊。倒不如自己记下来，一是印象深，二是方便查阅。\n",
    "\n",
    "于是做了现在这个笔记，因为这个是用来填坑的，所以比较混乱，想到哪写到哪。。。\n",
    "# 学习计划\n",
    "- [ ] 数据结构和算法\n",
    "- [ ] 加深对“对象”的理解，学会面向对象编程\n",
    "- [ ] 记录一些常用的操作\n",
    "- [ ] 机器学习相关笔记\n",
    "- [ ] 东西很杂，后续继续补充\n",
    "# 数据结构\n",
    "\n",
    "## 预置集合数据类型\n",
    "- 列表，字符串和元组是有序容器\n",
    "- 字典，集合是无序容器\n",
    "列表的每一项可以有不同的属性\n",
    "### 列表的一些操作\n",
    "```python\n",
    "first = [1, 2, 3, 4]\n",
    "second = [5, 6, 7, 8]\n",
    "```\n",
    "1. 索引  [ ] \n",
    "```python\n",
    "first[1]\n",
    "Out[5]: 2\n",
    "```\n",
    "2. 连接 +\n",
    "```python\n",
    "first + second\n",
    "Out[4]: [1, 2, 3, 4, 5, 6, 7, 8]\n",
    "```\n",
    "3. 重复 *\n",
    "```python\n",
    "first * 2\n",
    "Out[8]: [1, 2, 3, 4, 1, 2, 3, 4]\n",
    "```\n",
    "4. 是否在其中 in\n",
    "```python\n",
    "4 in first\n",
    "Out[9]: True\n",
    "2 in second\n",
    "Out[10]: False\n",
    "```\n",
    "5. 长度 len\n",
    "```python\n",
    "len(second*2)\n",
    "Out[14]: 8\n",
    "```\n",
    "7. 切片 [ : ]\n",
    "```python\n",
    "double = first *2 \n",
    "double[1:5]\n",
    "Out[18]: [2, 3, 4, 1]\n",
    "trible = second * 3\n",
    "trible[2:9:2]\n",
    "Out[20]: [7, 5, 7, 5]\n",
    "```\n",
    "值得注意的是，切片的范围是‘左闭右开’，即包括左边的下界，不包括右边的上界。\n",
    "python里面的列表数据结构还有很多骚操作，值得慢慢补充\n",
    "![list method](imgs/list_method.png)\n",
    "但是要注意，如果使用了这些方法，就会对原列表进行修改。如果想修改且不对原列表造成改变，可以将列表复制后再处理，见博客https://www.cnblogs.com/ifantastic/p/3811145.html中的方法。\n",
    "\n",
    "还有一个python中的与list相关的常用功能那就是range。range 产生了一个有顺序的对象,这个\n",
    "对象可以表示一个序列。在使用list里的功能时,可以将range对象里的值视为一个列表。同样的，range的范围也是左闭右开。下面是关于它的阐释:\n",
    "```python\n",
    "range(1,11)\n",
    "Out[29]: range(1, 11)\n",
    "list(range(1, 11, 2))\n",
    "Out[30]: [1, 3, 5, 7, 9]\n",
    "list(range(10, -3, -2))\n",
    "Out[31]: [10, 8, 6, 4, 2, 0, -2]\n",
    "```\n",
    "### 字符串的一些操作\n",
    "**字符串**是可以储存零个或多个字母,数字,或其他符号的有序容器。我们称字母,数字和其他的符号为字符。字符串的值用引号(单引号和双引号都可以,但不能混用)与标识符区分。\n",
    "\n",
    "作为一个序列，列表中所述的1～7操作在字符串都可以执行，但是除了这些之外，还有些字符串独特的方法：\n",
    "![str methods](imgs/str_method.png)\n",
    "其中split的使用较多，用于将字符串中的特定文本转换为一个*分割符*，进而可以将字符串分块转换为列表。\n",
    "```python\n",
    "string1 + ' ' + string1\n",
    "Out[39]: 'romantic in program romantic in program'\n",
    "(string1 + ' ' + string1).split(' ')\n",
    "Out[40]: ['romantic', 'in', 'program', 'romantic', 'in', 'program']\n",
    "```\n",
    "字符串和列表之间最大的区别就是列表可以被修改而字符串不能。这被称作可变性。列表是 可变的,字符串是不可变的。比如,你可以通过赋值和索引改变一个列表中的元素,而对于 字符串这种操作是不允许的。\n",
    "### 元组相关操作\n",
    "元组 tuple 和列表 list 类似,也是异质数据序列容器,区别是,**tuple 不可改变其中数据**,就像字符串。元表不可被修改。元表表示为用圆括号括起的,用逗号隔开的一系列值。当然,作为一个序列,它也适用于上述的关于序列的1～7运算符。\n",
    "### 集合相关操作\n",
    "集合是 0 个或多个数据的无序散列容器。集合不允许出现重复元素,表示为**花括号**括起的、用**逗号**隔开的一系列值。空的集合表示为 set()。集合是异质的,并且集合是可变的。例如:\n",
    "```python\n",
    ">>> {3,6,\"cat\",4.5,False}\n",
    "{False, 4.5, 3, 6, 'cat'}\n",
    "```\n",
    "![集合操作](imgs/jihe.png)\n",
    "### 字典相关操作\n",
    "字典是由许多对相互之间有联系的元素组成的, 每对都包含一个键(key)和一个值(value)。这种元素对被称为键值对,一般记作键:值(key:value)。字典的表示方法是,大括号内若干对键值对排列在一起,它们之间用逗号隔开。 举个例子:\n",
    "![字典方法](imgs/dict_method.png)\n",
    "## 输入输出\n",
    "输入\n",
    "```python\n",
    "a_string = input(\"please input whatever you want to input\")\n",
    "please input whatever you want to input>? is this a string?\n",
    "a_string\n",
    "Out[3]: 'is this a string?'\n",
    "a_string = input(\"please input whatever you want to input\")\n",
    "please input whatever you want to input>? 1234\n",
    "a_string\n",
    "Out[5]: '1234'\n",
    "float(a_string)\n",
    "Out[6]: 1234.0\n",
    "```\n",
    "输出：\n",
    "使用print，通过修改其参数设置可以改变输出时的格式。print默认使用空格分隔，可以通过设置sep参数改为其他的分隔符,可以修改end参数改变打印末端的格式。当然也可以使用‘+’进行字符串拼接后输出\n",
    "```python\n",
    "print('hello','world')\n",
    "hello world\n",
    "print('hello','world',sep=''，end='&&')\n",
    "helloworld&&\n",
    "print('hello'+'world')\n",
    "helloworld\n",
    "```\n",
    "如果想让程序有着**格式化输出**，可以通过在语句中放占位符实现：\n",
    "```python\n",
    "print(\"%s is %d years old.\" % (aName, age))\n",
    "```\n",
    "**%** 是字符串运算符,被称为**格式操作符**\n",
    "% 的左边是模版或者格式字符串,右边则是一个容器,其中包含了替换格式字符串的变量值。右边容器中的变量的个数必须和左边字符串中的占位符的数目一致,在用变量值替换占位符的过程中,从左到右依次读取变量,按顺序替代占位符的位置。%s显示了这将会是一个字符串填充到这个位置。\n",
    "字母 | 输出格式\n",
    "---|---\n",
    "d| 整型\n",
    "u|无符号整型\n",
    "f|浮点型\n",
    "e|浮点型，有指数\n",
    "c|单个字符\n",
    "s|字符串\n",
    "%|用于打印%这个符号\n",
    "\n",
    "还可以对打印的格式进行进一步修饰：\n",
    "![格式修饰](imgs/geshi.png)\n",
    "```python\n",
    "rows = 1440\n",
    "name = 'food'\n",
    "print('the %s has %.2f rows' % (name, rows))\n",
    "the food has 1440.00 rows\n",
    "# 通过元祖进行索引\n",
    "returnvalue = ('trip','goals')\n",
    "returnvalue\n",
    "Out[15]: ('trip', 'goals')\n",
    "print(\"%s, %s\" % returnvalue)\n",
    "trip, goals\n",
    "# 通过字典进行索引\n",
    "itemdict = {\"item\":\"banana\",\"cost\":24}\n",
    "print(\"The %(item)s costs %(cost)7.1f cents\"%itemdict)\n",
    "The banana costs    24.0 cents\n",
    "```\n",
    "注意%前不要手贱打个逗号，不要忘记括号括起来右边部分。\n",
    "## 控制结构\n",
    "### while\n",
    "条件为真继续执行，为假退出循环\n",
    "### for\n",
    "**for**可以和很多的python序列容器一起用。因为只要这个容器是一个序列的容器，那么for就可以以你想要的方式、顺序遍历其中的元素\n",
    "### if-else-elif\n",
    "if-else为判断语句，条件为真进行一个操作，为假进行另一个操作，可以使用elif代替嵌套，相当于在上一个if没成立的基础之上进行一个操作\n",
    "## 异常处理\n",
    "### try-except\n",
    "```python\n",
    "In[22]: try:\n",
    "   ...:     a_number = int(input('please input a integer'))\n",
    "   ...: except:\n",
    "   ...:     print('opps, bad input')\n",
    "   \n",
    "please input a integer>? 12.4\n",
    "opps, bad input\t\n",
    "   ```\n",
    "try的作用是截获python解释器给你发回的错误信息，换成自己在except后写的错误提示信息打印出来\n",
    "### raise\n",
    "当我们想在程序中加入一些’帮助日后处理程序输入类型问题‘的时候，可以自己对所需的数据类型或者一些条件进行界定，将其表示为一个判断语句，如果输入符合我的想法，那么就继续执行万事大吉，如果不符合我当初的思考，那就会打印一个当初用于防范这种错误的提示信息，进而帮助修改bug\n",
    "```python\n",
    ">>> if anumber < 0:\n",
    "...\n",
    " raise RuntimeError(\"You can't use a negative number\")\n",
    "... else:\n",
    "...\n",
    " print(math.sqrt(anumber))\n",
    "...\n",
    "Traceback (most recent call last):\n",
    "File \"<stdin>\", line 2, in <module>\n",
    "RuntimeError: You can't use a negative number\n",
    "```\n"
   ]
  },
  {
   "cell_type": "markdown",
   "metadata": {},
   "source": [
    "\n",
    "# 面向对象\n",
    ">在Python 里，和很多其他面向对象的编程语言一样，我们定义“类”（class）去描述数据的外观（状态）和功能（行为）。“类”类似于抽象数据类型，“类”的用户只能看到数据项的状态和行为。数据项在面向对象的范式里被称为对象（objects）。对象是类的一个实例。\n",
    "\n",
    "目前我对于**类（class）** 的理解是这样的：\n",
    "一个类就像游戏中的一个人物模型，在开局的时候，所有玩家都有一个初始的角色供我们捏脸，我们每个人可以调整的选项都是一样的，比如我们都只能对人物的鼻子，眼睛和嘴巴进行修改，对于游戏未给我们开放的属性，比如手指的长短，我们都一样，都无法修改。而一个类就像这个初始模型，给玩家提供了一堆选项进行调整。一旦我们捏好了一个人物，即确定了每一项的属性，并且保存过后，这个类就创建了一个基于该类的全新的人物（**实例**），这个新人物就是所谓的“**对象**”。\n",
    "\n",
    "在python中我们通过提供一个名字和一个方法来定义一个类（类似构造函数）。\n",
    "\n",
    "构造一个类，第一步需要有有个**构造函数**，其定义了数据对象的创建方式，python中构造函数的方法为__init__。其参数列表的第一项一定为**self**参数，可以用来作为参考返回对象本身。但是在调用的时候永远都不需要显式的给出实际参数。\n",
    "\n",
    "如果想要定义一个分数对象，即该对象具有分子和分母两个属性，可以这么定义：\n",
    "```python\n",
    "class Fraction:\n",
    "\tdef __init__(self, top, bottom):\n",
    "\t\tself.num = top\n",
    "\t\tself.den = bottom\n",
    "```"
   ]
  },
  {
   "cell_type": "code",
   "execution_count": 1,
   "metadata": {},
   "outputs": [],
   "source": [
    "class Fraction:\n",
    "    def __init__(self, top, bottom):\n",
    "        self.num = top\n",
    "        self.den = bottom"
   ]
  },
  {
   "cell_type": "markdown",
   "metadata": {},
   "source": [
    "如果想要创建一个Fraction的类的实例，我们就要借助构造器，这个过程发生于使用类名和传递参数之时，由于我们不会直接调用__init__，所以举例为：\n",
    "```python\n",
    "myfraction = Fraction(3,5)\n",
    "```\n",
    "从而创建了一个myfraction对象"
   ]
  },
  {
   "cell_type": "code",
   "execution_count": 2,
   "metadata": {},
   "outputs": [
    {
     "name": "stdout",
     "output_type": "stream",
     "text": [
      "<__main__.Fraction object at 0x7f5f8f48e390>\n"
     ]
    }
   ],
   "source": [
    "myf = Fraction(3,5)\n",
    "print(myf)"
   ]
  },
  {
   "cell_type": "markdown",
   "metadata": {},
   "source": [
    "可以发现，如果直接打印Fraction的myf对象，将会导致print函数不知道应该打印什么，于是就把地址打印出来了，但是这个拿来没用，我们想要的是分子和分母的数值，所以我们就应该告诉对象如何打印合适的值。\n",
    "\n",
    "## 方法一\n",
    "定义一个方法称为show，使得让Fraction对象可以把自己当成一个字符串输出，就是使得Fraction可以以一个合适的身份（形式）展现在人面前："
   ]
  },
  {
   "cell_type": "code",
   "execution_count": 4,
   "metadata": {},
   "outputs": [
    {
     "name": "stdout",
     "output_type": "stream",
     "text": [
      "3 / 5\n",
      "<__main__.Fraction object at 0x7f5f8f464550>\n"
     ]
    }
   ],
   "source": [
    "class Fraction:\n",
    "    def __init__(self, top, bottom):\n",
    "        self.num = top\n",
    "        self.den = bottom\n",
    "    \n",
    "    def show(self):\n",
    "        print(self.num, '/', self.den)\n",
    "        \n",
    "myf = Fraction(3,5)\n",
    "myf.show()\n",
    "print(myf)"
   ]
  },
  {
   "cell_type": "markdown",
   "metadata": {},
   "source": [
    "## 方法二\n",
    "之所以使用print会打印一个地址，是因为每一个类都有默认的一些标准方法，其中__str__方法就是用来将对象转变为字符串，默认值是返回地址，所以可以对其修改已得到想要的输出"
   ]
  },
  {
   "cell_type": "code",
   "execution_count": 6,
   "metadata": {},
   "outputs": [
    {
     "name": "stdout",
     "output_type": "stream",
     "text": [
      "3 / 5\n",
      "3/5\n"
     ]
    }
   ],
   "source": [
    "class Fraction:\n",
    "    def __init__(self, top, bottom):\n",
    "        self.num = top\n",
    "        self.den = bottom\n",
    "        \n",
    "    def __str__(self):\n",
    "        return str(self.num) + '/' + str(self.den)\n",
    "    \n",
    "    def show(self):\n",
    "        print(self.num, '/', self.den)\n",
    "\n",
    "myf = Fraction(3,5)\n",
    "myf.show()\n",
    "print(myf)"
   ]
  },
  {
   "cell_type": "markdown",
   "metadata": {},
   "source": [
    "使用这样的方法后，就可以在任何需要其作为字符串为返回值的情况下返回合适的值，比如："
   ]
  },
  {
   "cell_type": "code",
   "execution_count": 9,
   "metadata": {},
   "outputs": [
    {
     "name": "stdout",
     "output_type": "stream",
     "text": [
      "3/5\n",
      "hello 3/5\n"
     ]
    },
    {
     "data": {
      "text/plain": [
       "'3/5'"
      ]
     },
     "execution_count": 9,
     "metadata": {},
     "output_type": "execute_result"
    }
   ],
   "source": [
    "print(str(myf))\n",
    "print('hello', myf)\n",
    "myf.__str__()"
   ]
  },
  {
   "cell_type": "markdown",
   "metadata": {},
   "source": [
    "数据有了载体，还需要合适的和其他程序或者用户的接口，比如可以定义一些**运算**:"
   ]
  },
  {
   "cell_type": "code",
   "execution_count": 23,
   "metadata": {},
   "outputs": [
    {
     "data": {
      "text/plain": [
       "<__main__.Fraction at 0x7f5f8f3d2b38>"
      ]
     },
     "execution_count": 23,
     "metadata": {},
     "output_type": "execute_result"
    }
   ],
   "source": [
    "f1 = Fraction(2,4)\n",
    "f2 = Fraction(4,6)\n",
    "f1 + f2"
   ]
  },
  {
   "cell_type": "markdown",
   "metadata": {},
   "source": [
    "这是因为 + 号没有被当成一个加减运算符处理，所以还是要重新修改方法。其中有一个__add__可以实现**相加**的操作，同时还加入一段约分分式的算法（欧几里得算法），使得输出为最简分数。\n",
    "> 最著名的寻找最大公因数的方法是欧几里得算法,欧几里得\n",
    "算法规定:对于两个整数 m 和 n,如果 n 能整除 m,那么就将 n 除以 m 的结果作为新的 n,如果 n\n",
    "不能再整除 m,那么最大公因数就是 n 或者 m 被 n 整除的余数。\n",
    "\n",
    "程序中为迭代法实现，见gcd函数："
   ]
  },
  {
   "cell_type": "code",
   "execution_count": 21,
   "metadata": {},
   "outputs": [],
   "source": [
    "def gcd(m,n):\n",
    "        while m%n != 0:\n",
    "            oldm = m\n",
    "            oldn = n\n",
    "            m = oldn\n",
    "            n = oldm%oldn\n",
    "        return n\n",
    "    \n",
    "class Fraction:\n",
    "    def __init__(self, top, bottom):\n",
    "        self.num = top\n",
    "        self.den = bottom\n",
    "        \n",
    "    def __str__(self):\n",
    "        return str(self.num) + '/' + str(self.den)\n",
    "\n",
    "    def __add__(self,otherfraction):\n",
    "        newnum = self.num*otherfraction.den + self.den*otherfraction.num\n",
    "        newden = self.den * otherfraction.den\n",
    "        common = gcd(newnum,newden)\n",
    "        return Fraction(newnum//common,newden//common)"
   ]
  },
  {
   "cell_type": "code",
   "execution_count": 22,
   "metadata": {},
   "outputs": [
    {
     "name": "stdout",
     "output_type": "stream",
     "text": [
      "7/6\n"
     ]
    }
   ],
   "source": [
    "f1 = Fraction(2,4)\n",
    "f2 = Fraction(4,6)\n",
    "f3 = f1 + f2\n",
    "print(f3)"
   ]
  },
  {
   "cell_type": "markdown",
   "metadata": {},
   "source": [
    "### 继承\n",
    "继承是一个类联系另一个类的能力，python子类可以继承父亲的数据和行为特征。如列表为有序集的子集，所以列表可以从有序集中继承重要的特征序列，即基础的排序和一些操作（连接，重复，索引等）。有序集合的类型包括列表(list)、元组(tuple)和字符串(string)。就像孩子们一方面继承父母\n",
    "的特征,另一方面也通过添加额外的特征来加以区分自己,这三者都继承了共同的数据组织和操作,但是,它们每一个都是独特的,区别在于数据是否均匀、是否不变。\n",
    "\n"
   ]
  },
  {
   "cell_type": "code",
   "execution_count": 1,
   "metadata": {},
   "outputs": [],
   "source": [
    "class LogicGate:\n",
    "    def __init__(self,n):\n",
    "        self.label = n\n",
    "        self.output = None\n",
    "        \n",
    "    def getLabel(self):\n",
    "        return self.label\n",
    "    \n",
    "    def getOutput(self):\n",
    "        self.output = self.performGateLogic()\n",
    "        return self.output\n"
   ]
  },
  {
   "cell_type": "code",
   "execution_count": 25,
   "metadata": {},
   "outputs": [
    {
     "ename": "AttributeError",
     "evalue": "'LogicGate' object has no attribute 'performGateLogic'",
     "output_type": "error",
     "traceback": [
      "\u001b[0;31m--------------------------------------------------------------------------\u001b[0m",
      "\u001b[0;31mAttributeError\u001b[0m                           Traceback (most recent call last)",
      "\u001b[0;32m<ipython-input-25-1760d1876c3f>\u001b[0m in \u001b[0;36m<module>\u001b[0;34m\u001b[0m\n\u001b[1;32m      1\u001b[0m \u001b[0mgates\u001b[0m \u001b[0;34m=\u001b[0m \u001b[0mLogicGate\u001b[0m\u001b[0;34m(\u001b[0m\u001b[0;34m'yu fei'\u001b[0m\u001b[0;34m)\u001b[0m\u001b[0;34m\u001b[0m\u001b[0;34m\u001b[0m\u001b[0m\n\u001b[1;32m      2\u001b[0m \u001b[0mgates\u001b[0m\u001b[0;34m.\u001b[0m\u001b[0mgetLabel\u001b[0m\u001b[0;34m(\u001b[0m\u001b[0;34m)\u001b[0m\u001b[0;34m\u001b[0m\u001b[0;34m\u001b[0m\u001b[0m\n\u001b[0;32m----> 3\u001b[0;31m \u001b[0mgates\u001b[0m\u001b[0;34m.\u001b[0m\u001b[0mgetOutput\u001b[0m\u001b[0;34m(\u001b[0m\u001b[0;34m)\u001b[0m\u001b[0;34m\u001b[0m\u001b[0;34m\u001b[0m\u001b[0m\n\u001b[0m",
      "\u001b[0;32m<ipython-input-24-7076419027c2>\u001b[0m in \u001b[0;36mgetOutput\u001b[0;34m(self)\u001b[0m\n\u001b[1;32m      8\u001b[0m \u001b[0;34m\u001b[0m\u001b[0m\n\u001b[1;32m      9\u001b[0m     \u001b[0;32mdef\u001b[0m \u001b[0mgetOutput\u001b[0m\u001b[0;34m(\u001b[0m\u001b[0mself\u001b[0m\u001b[0;34m)\u001b[0m\u001b[0;34m:\u001b[0m\u001b[0;34m\u001b[0m\u001b[0;34m\u001b[0m\u001b[0m\n\u001b[0;32m---> 10\u001b[0;31m         \u001b[0mself\u001b[0m\u001b[0;34m.\u001b[0m\u001b[0moutput\u001b[0m \u001b[0;34m=\u001b[0m \u001b[0mself\u001b[0m\u001b[0;34m.\u001b[0m\u001b[0mperformGateLogic\u001b[0m\u001b[0;34m(\u001b[0m\u001b[0;34m)\u001b[0m\u001b[0;34m\u001b[0m\u001b[0;34m\u001b[0m\u001b[0m\n\u001b[0m\u001b[1;32m     11\u001b[0m         \u001b[0;32mreturn\u001b[0m \u001b[0mself\u001b[0m\u001b[0;34m.\u001b[0m\u001b[0moutput\u001b[0m\u001b[0;34m\u001b[0m\u001b[0;34m\u001b[0m\u001b[0m\n",
      "\u001b[0;31mAttributeError\u001b[0m: 'LogicGate' object has no attribute 'performGateLogic'"
     ]
    }
   ],
   "source": [
    "gates = LogicGate('yu fei')\n",
    "gates.getLabel()\n",
    "gates.getOutput()"
   ]
  },
  {
   "cell_type": "markdown",
   "metadata": {},
   "source": [
    "可以看到，performGateLogic（）并不能被执行，但是仍然被写入了程序\n",
    ">此时,我们并不会执行 performGateLogic 函数,因为我们不知道每个逻辑门将会怎样执行它\n",
    "的逻辑操作。这些细节将会包含在每一个被加入到阶层架构的门中,这是一个非常强大的面向对象\n",
    "编程思想。我们在写一个使用了尚不存在的代码的方法。参数 self 是实际门调用这个方法的一个引\n",
    "用。任何新加入阶层架构的逻辑门只需要执行 performGateLogic 函数,它便会在适当的时候被使\n",
    "用。一旦完成,门就可以提供它的输出值。这种可以扩展现存阶层架构并且为需要使用新类的阶层\n",
    "架构提供具体功能的能力对再利用现存代码来说是非常重要的。\n",
    "\n",
    "定义LogicGate的子类BinaryGate和UnaryGate："
   ]
  },
  {
   "cell_type": "code",
   "execution_count": 10,
   "metadata": {},
   "outputs": [],
   "source": [
    "class BinaryGate(LogicGate):\n",
    "    def __init__(self,n):\n",
    "        LogicGate.__init__(self,n) # 初始化所有从LogicGate继承来的数据项\n",
    "        self.pinA = None  # 随后的构造为新增两个标签pina pinb， 因为子类的构造器需要访问父类的构造器然后再转移到自己的数据分区上\n",
    "        self.pinB = None\n",
    "    def getPinA(self):\n",
    "        return int(input(\"Enter Pin A input for gate \"+ self.getLabel()+\"-->\"))\n",
    "    def getPinB(self):\n",
    "        return int(input(\"Enter Pin B input for gate \"+ self.getLabel()+\"-->\"))\n",
    "\n",
    "class UnaryGate(LogicGate):\n",
    "    def __init__(self,n):\n",
    "        LogicGate.__init__(self,n)\n",
    "        self.pin = None\n",
    "    def getPin(self):\n",
    "        return int(input(\"Enter Pin input for gate \"+ self.getLabel()+\"-->\"))\n",
    "\n",
    "class AndGate(BinaryGate):\n",
    "    def __init__(self,n):\n",
    "        BinaryGate.__init__(self,n)\n",
    "        \n",
    "    def performGateLogic(self):\n",
    "        a = self.getPinA()\n",
    "        b = self.getPinB()\n",
    "        if a==1 and b==1:\n",
    "            return 1\n",
    "        else:\n",
    "            return 0\n",
    "\n",
    "class OrGate(BinaryGate):\n",
    "    def __int__(self,n):\n",
    "        BinaryGate.__init__(self,n)\n",
    "    \n",
    "    def performGateLogic(self):\n",
    "        a = self.getPinA()\n",
    "        b = self.getPinB()\n",
    "        if a==0 and b==0:\n",
    "            return 0\n",
    "        else:\n",
    "            return 1\n",
    "        \n",
    "class NotGate(UnaryGate):\n",
    "    def __init__(self,n):\n",
    "        UnaryGate.__init__(self,n)\n",
    "    \n",
    "    def performGateLogic(self):\n",
    "        a = self.getPin()\n",
    "        if a==0:\n",
    "            return 1\n",
    "        if a==1:\n",
    "            return 0"
   ]
  },
  {
   "cell_type": "markdown",
   "metadata": {},
   "source": [
    "> Python 还有一个函数名为 super,这是一个可以用来代替对父类精确命名的函数。这是一个更\n",
    "为普遍的机制,也被广泛使用,尤其是当一个类有不止一个父类时。但是我们不准备在这个介绍中\n",
    "讨论它。比如在我们上面的例子中,LogicGate.__init__(self,n) 可以被替换为\n",
    "super(UnaryGate,self).__init__(n)。\n"
   ]
  },
  {
   "cell_type": "code",
   "execution_count": 5,
   "metadata": {},
   "outputs": [
    {
     "name": "stdout",
     "output_type": "stream",
     "text": [
      "Enter Pin A input for gate G1-->1\n",
      "Enter Pin B input for gate G1-->0\n"
     ]
    },
    {
     "data": {
      "text/plain": [
       "'G1'"
      ]
     },
     "execution_count": 5,
     "metadata": {},
     "output_type": "execute_result"
    }
   ],
   "source": [
    "g1 = AndGate('G1')\n",
    "g1.getOutput()\n",
    "g1.getLabel()"
   ]
  },
  {
   "cell_type": "markdown",
   "metadata": {},
   "source": [
    "可以看出，子类可以调用父类中的方法，而且，在写父类的时候可以提前预想日后有什么功能需要使用，可以留一个向下扩展的接口，日后可以使用这个构造相关操作的函数，然后在子类中调用这样的操作就会使用父类之前定义的方式"
   ]
  },
  {
   "cell_type": "code",
   "execution_count": 12,
   "metadata": {},
   "outputs": [
    {
     "name": "stdout",
     "output_type": "stream",
     "text": [
      "Enter Pin A input for gate g2-->1\n",
      "Enter Pin B input for gate g2-->0\n"
     ]
    },
    {
     "data": {
      "text/plain": [
       "1"
      ]
     },
     "execution_count": 12,
     "metadata": {},
     "output_type": "execute_result"
    }
   ],
   "source": [
    "g2 = OrGate('g2')\n",
    "g3 = NotGate('g3')\n",
    "g2.getOutput()"
   ]
  },
  {
   "cell_type": "code",
   "execution_count": 13,
   "metadata": {},
   "outputs": [
    {
     "name": "stdout",
     "output_type": "stream",
     "text": [
      "Enter Pin input for gate g3-->0\n"
     ]
    },
    {
     "data": {
      "text/plain": [
       "1"
      ]
     },
     "execution_count": 13,
     "metadata": {},
     "output_type": "execute_result"
    }
   ],
   "source": [
    "g3.getOutput()"
   ]
  },
  {
   "cell_type": "markdown",
   "metadata": {},
   "source": [
    "当完成了门的构建之后，如果想设计一个完整的电路，还需要在他们中间有用来连接的桥梁，所以构建一个新的类，叫做**connect**类。\n",
    "\n",
    "> Connector 类并不属于门的阶层架构,而是在其两端分别含有门层(见图 1.10)。这种关系是\n",
    "面向对象的编程中十分重要的关系,叫做“HAS-A”关系,即非继承关系。在这里复习一下之前学过\n",
    "的“IS-A”关系,也即继承关系,是指子类与父类的相似性,如 UnaryGate 和 LogicGate。\n"
   ]
  },
  {
   "cell_type": "code",
   "execution_count": null,
   "metadata": {},
   "outputs": [],
   "source": [
    "def setNextPin(self,source):\n",
    "    if self.pinA == None:\n",
    "        self.pinA = source\n",
    "    else:\n",
    "        if self.pinB == None:\n",
    "            self.pinB = source\n",
    "        else:\n",
    "            raise RuntimeError(\"Error: NO EMPTY PINS\")\n",
    "\n",
    "def getPinA(self):\n",
    "    if self.pinA == None:\n",
    "        return input(\"Enter Pin A input for gate \" + self.getName()+\"-->\")\n",
    "    else:\n",
    "        return self.pinA.getFrom().getOutput()\n",
    "\n",
    "class Connector:\n",
    "    def __init__(self, fgate, tgate):\n",
    "        self.fromgate = fgate\n",
    "        self.togate = tgate\n",
    "        tgate.setNextPin(self)\n",
    "        \n",
    "    def getFrom(self):\n",
    "        return self.fromgate\n",
    "    \n",
    "    def getTo(self):\n",
    "        return self.togate\n"
   ]
  }
 ],
 "metadata": {
  "kernelspec": {
   "display_name": "Python 3",
   "language": "python",
   "name": "python3"
  },
  "language_info": {
   "codemirror_mode": {
    "name": "ipython",
    "version": 3
   },
   "file_extension": ".py",
   "mimetype": "text/x-python",
   "name": "python",
   "nbconvert_exporter": "python",
   "pygments_lexer": "ipython3",
   "version": "3.7.1"
  }
 },
 "nbformat": 4,
 "nbformat_minor": 2
}
