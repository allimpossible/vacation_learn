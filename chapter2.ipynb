{
 "cells": [
  {
   "cell_type": "code",
   "execution_count": 1,
   "metadata": {},
   "outputs": [],
   "source": [
    "import time"
   ]
  },
  {
   "cell_type": "code",
   "execution_count": 18,
   "metadata": {
    "scrolled": true
   },
   "outputs": [
    {
     "name": "stdout",
     "output_type": "stream",
     "text": [
      "Sum is 500000500000 required  0.0402777 seconds\n",
      "Sum is 500000500000 required  0.0344000 seconds\n",
      "Sum is 500000500000 required  0.0341873 seconds\n",
      "Sum is 500000500000 required  0.0339375 seconds\n",
      "Sum is 500000500000 required  0.0348842 seconds\n"
     ]
    }
   ],
   "source": [
    "def sum_of_n_2(n):\n",
    "    start = time.time()\n",
    "    the_sum = 0\n",
    "    for i in range(1,n+1):\n",
    "        the_sum = the_sum + i\n",
    "    end = time.time()\n",
    "    time_used = end - start\n",
    "    \n",
    "    return the_sum, time_used\n",
    "\n",
    "for i in range(5):\n",
    "    print(\"Sum is %d required %10.7f seconds\"% sum_of_n_2(1000000))"
   ]
  },
  {
   "cell_type": "markdown",
   "metadata": {},
   "source": [
    "为了找到一个合适的标准来比较函数的运行时间，并且排除不同电脑的性能之间的差距，采用大O表示法。\n",
    "\n",
    "在程序中，有些操作不费事，而有些操作则会对运行时间产生较大影响\n",
    "> 计算机科学家对这种算法分析技术进行了更为深远的思考。有限的操作次数对于 T(n)函数的影响,并\n",
    "不如某些占据主要地位的操作部分重要。换言之,当问题规模越来越大时,T(n)函数中的一部分几乎\n",
    "掩盖了其他部分对于函数的影响。最终,这种起主导作用的部分用来对函数进行比较。数量级函数\n",
    "用来描述当规模 n 增加时,T(n)函数中增长最快的部分。这种数量级函数一般被称为大“O”表示\n",
    "法,记作 O(f(n))。它提供了计算过程中实际步数的近似值。函数 f(n)是原始函数 T(n)中主导部分的简\n",
    "化表示。\n",
    "\n",
    ">我们还是注意到有时算法的运行时间还取决于具体数据\n",
    "而不仅仅是问题规模。对于这种算法,我们把它们的执行情况分为最好的情况,最坏的情况和平均\n",
    "情况。某个特定的数据集会使算法程序执行情况极差,这就是最坏的情况。然而另一个不同的数据\n",
    "集却能使这个算法程序执行情况极佳。不过,大多数情况下,算法程序的执行情况都介于这两种极\n",
    "端情况之间,也就是平均情况。因此要理解不同情况之间的差别,不被某些特殊情况所误导。\n",
    "\n",
    "为了实验几种不同的算法，使用变位词检测实验：\n",
    "> 经典的字符串变位词检测问题是比较不同数量级函数算法的一个典型例子。如果一个字符串是\n",
    "另一个字符串的重新排列组合,那么这两个字符串互为变位词。比如,”heart”与”earth”互为变位\n",
    "词,”python”与”typhon”也互为变位词。为了简化问题,我们设定问题中的字符串长度相同,都是由\n",
    "26 个小写字母组成。我们需要编写一个接受两个字符串,返回真假,代表是否是一对变位词的布尔\n",
    "函数。\n",
    "\n",
    "## 解法一\n"
   ]
  },
  {
   "cell_type": "markdown",
   "metadata": {},
   "source": [
    "通过对每一个位置上的字符进行比较，执行循环；当检索出相同的字符后，删除该字符再进行后续的检索可以节省时间\n",
    "<script type=\"text/javascript\" src=\"http://cdn.mathjax.org/mathjax/latest/MathJax.js?config=default\"></script>\n",
    "复杂度计算为$\\sum_{i=1}^n = \\frac{n(n+1)}{2}$，所以复杂度为O($n^2$)"
   ]
  },
  {
   "cell_type": "code",
   "execution_count": 15,
   "metadata": {},
   "outputs": [
    {
     "name": "stdout",
     "output_type": "stream",
     "text": [
      "True\n"
     ]
    }
   ],
   "source": [
    "def anagram_solution1(s1,s2):\n",
    "    a_list = list(s2)\n",
    "    pos1 = 0\n",
    "    still_ok = True\n",
    "    while pos1 <len(s1) and still_ok:\n",
    "        pos2 = 0\n",
    "        found = False\n",
    "        while pos2 <len(a_list) and not found:\n",
    "            if s1[pos1] == a_list[pos2]:\n",
    "                found = True\n",
    "            else:\n",
    "                pos2 = pos2 + 1\n",
    "        if found:\n",
    "            a_list[pos2] = None\n",
    "        else:\n",
    "            still_ok = False\n",
    "        pos1 =pos1 + 1\n",
    "        \n",
    "    return still_ok\n",
    "\n",
    "\n",
    "print(anagram_solution1('abcd','dcba'))\n"
   ]
  },
  {
   "cell_type": "markdown",
   "metadata": {},
   "source": [
    "## 解法二\n",
    "使用python内建的sort函数，先将两个需要比较的字符串排序后看是否相等"
   ]
  },
  {
   "cell_type": "code",
   "execution_count": 21,
   "metadata": {},
   "outputs": [
    {
     "ename": "KeyboardInterrupt",
     "evalue": "",
     "output_type": "error",
     "traceback": [
      "\u001b[0;31m---------------------------------------------------------------------------\u001b[0m",
      "\u001b[0;31mKeyboardInterrupt\u001b[0m                         Traceback (most recent call last)",
      "\u001b[0;32m<ipython-input-21-700a06d1cadf>\u001b[0m in \u001b[0;36m<module>\u001b[0;34m\u001b[0m\n\u001b[1;32m     14\u001b[0m     \u001b[0;32mreturn\u001b[0m \u001b[0mmatches\u001b[0m\u001b[0;34m\u001b[0m\u001b[0;34m\u001b[0m\u001b[0m\n\u001b[1;32m     15\u001b[0m \u001b[0;34m\u001b[0m\u001b[0m\n\u001b[0;32m---> 16\u001b[0;31m \u001b[0mprint\u001b[0m\u001b[0;34m(\u001b[0m\u001b[0managram_solution2\u001b[0m\u001b[0;34m(\u001b[0m\u001b[0;34m'abcde'\u001b[0m\u001b[0;34m,\u001b[0m\u001b[0;34m'edcba'\u001b[0m\u001b[0;34m)\u001b[0m\u001b[0;34m)\u001b[0m\u001b[0;34m\u001b[0m\u001b[0;34m\u001b[0m\u001b[0m\n\u001b[0m",
      "\u001b[0;32m<ipython-input-21-700a06d1cadf>\u001b[0m in \u001b[0;36managram_solution2\u001b[0;34m(s1, s2)\u001b[0m\n\u001b[1;32m      8\u001b[0m     \u001b[0;32mwhile\u001b[0m \u001b[0mpos\u001b[0m \u001b[0;34m<\u001b[0m \u001b[0mlen\u001b[0m\u001b[0;34m(\u001b[0m\u001b[0ms1\u001b[0m\u001b[0;34m)\u001b[0m \u001b[0;32mand\u001b[0m \u001b[0mmatches\u001b[0m\u001b[0;34m:\u001b[0m\u001b[0;34m\u001b[0m\u001b[0;34m\u001b[0m\u001b[0m\n\u001b[1;32m      9\u001b[0m         \u001b[0;32mif\u001b[0m \u001b[0ma_list1\u001b[0m\u001b[0;34m[\u001b[0m\u001b[0mpos\u001b[0m\u001b[0;34m]\u001b[0m \u001b[0;34m==\u001b[0m \u001b[0ma_list2\u001b[0m\u001b[0;34m[\u001b[0m\u001b[0mpos\u001b[0m\u001b[0;34m]\u001b[0m\u001b[0;34m:\u001b[0m\u001b[0;34m\u001b[0m\u001b[0;34m\u001b[0m\u001b[0m\n\u001b[0;32m---> 10\u001b[0;31m             \u001b[0mPos\u001b[0m\u001b[0;34m=\u001b[0m\u001b[0mpos\u001b[0m \u001b[0;34m+\u001b[0m \u001b[0;36m1\u001b[0m\u001b[0;34m\u001b[0m\u001b[0;34m\u001b[0m\u001b[0m\n\u001b[0m\u001b[1;32m     11\u001b[0m         \u001b[0;32melse\u001b[0m\u001b[0;34m:\u001b[0m\u001b[0;34m\u001b[0m\u001b[0;34m\u001b[0m\u001b[0m\n\u001b[1;32m     12\u001b[0m             \u001b[0mMatches\u001b[0m\u001b[0;34m=\u001b[0m\u001b[0;32mFalse\u001b[0m\u001b[0;34m\u001b[0m\u001b[0;34m\u001b[0m\u001b[0m\n",
      "\u001b[0;31mKeyboardInterrupt\u001b[0m: "
     ]
    }
   ],
   "source": [
    "def anagram_solution2(s1,s2):\n",
    "    a_list1=list(s1)\n",
    "    a_list2=list(s2)\n",
    "    a_list1.sort()\n",
    "    a_list2.sort()\n",
    "    pos=0\n",
    "    matches=True\n",
    "    while pos < len(s1) and matches:\n",
    "        if a_list1[pos] == a_list2[pos]:\n",
    "            Pos=pos + 1\n",
    "        else:\n",
    "            Matches=False\n",
    "        \n",
    "    return matches\n",
    "\n",
    "print(anagram_solution2('abcde','edcba'))\n"
   ]
  },
  {
   "cell_type": "markdown",
   "metadata": {},
   "source": [
    "这个方法看上去是O(n)，但是如果考虑进sort中的排序过程的话，复杂度仍然为O($n^2$)。经证明，排序方法复杂度一般都是O($n^2$)或者O($n\\log n$)\n",
    "\n",
    "## 解法三\n",
    "解决变位词问题的最后一个方法利用了任何变位词都有相同数量的 a,相同数量的 b,相同数量\n",
    "的 c 等等。为判断两个字符串是否为变位词,我们首先计算每一个字符在字符串中出现的次数。由于\n",
    "共有 26 个可能的字符,我们可以利用有 26 个计数器的列表,每个计数器对应一个字符。每当我们\n",
    "看到一个字符,就在相对应的计数器上加一。最终,如果这两个计数器列表相同,则这两个字符串\n",
    "是变位词。下面展示了这种方法:"
   ]
  },
  {
   "cell_type": "code",
   "execution_count": 22,
   "metadata": {},
   "outputs": [
    {
     "name": "stdout",
     "output_type": "stream",
     "text": [
      "True\n"
     ]
    }
   ],
   "source": [
    "def anagram_solution4(s1,s2):\n",
    "    c1 = [0] * 26\n",
    "    c2 = [0] * 26\n",
    "    \n",
    "    for i in range(len(s1)):\n",
    "        pos = ord(s1[i]) - ord('a')\n",
    "        c1[pos] = c1[pos] + 1\n",
    "        \n",
    "    for i in range(len(s2)):\n",
    "        pos = ord(s2[i]) - ord('a')\n",
    "        c2[pos] = c2[pos] + 1\n",
    "    \n",
    "    j = 0\n",
    "    still_ok = True\n",
    "    while j < 26 and still_ok:\n",
    "        if c1[j] == c2[j]:\n",
    "            j = j+1\n",
    "        else:\n",
    "            still_ok=False\n",
    "    return still_ok\n",
    "\n",
    "print(anagram_solution4('apple','pleap'))\n"
   ]
  },
  {
   "cell_type": "markdown",
   "metadata": {},
   "source": [
    "本办法的复杂度为O(n),时间复杂度确实很低，但是由于使用了计数器，这就对内存提出了要求，所以有着较大的空间占用。时间和空间占用就是需要权衡的方面。\n",
    "![list O](imgs/list_O.png)\n",
    "![dict O](imgs/dict_O.png)"
   ]
  }
 ],
 "metadata": {
  "kernelspec": {
   "display_name": "Python 3",
   "language": "python",
   "name": "python3"
  },
  "language_info": {
   "codemirror_mode": {
    "name": "ipython",
    "version": 3
   },
   "file_extension": ".py",
   "mimetype": "text/x-python",
   "name": "python",
   "nbconvert_exporter": "python",
   "pygments_lexer": "ipython3",
   "version": "3.7.1"
  }
 },
 "nbformat": 4,
 "nbformat_minor": 2
}
