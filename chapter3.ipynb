{
 "cells": [
  {
   "cell_type": "markdown",
   "metadata": {},
   "source": [
    "# 线性数据结构\n",
    "先来看看四个简单但非常强大的概念: 栈,队列,双端队\n",
    "列,和列表。这四种数据集合的项的由添加或删除的方式整合在一起。当添加一个项目时,它就被\n",
    "放在这样一个位置:在之前存在的项与后来要加入的项之间。像这样的数据集合常被称为线性数据\n",
    "结构。\n",
    "# 栈\n",
    "一个栈(有时称“叠加栈”)是一个项的有序集合。添加项和移除项都发生在同一“端”。\n",
    "这一端通常被称为“顶”。另一端的顶部被称为“底”。\n",
    "\n",
    "栈的“底”是有标志性的,因为存储在栈中更靠近“底”的项就是栈中储存时间最长的项。\n",
    "最新添加的项在移除项时也会第一个被移除。这种排序原则有时也称为 LIFO 法,也就是“后进先\n",
    "出”。项的排序基于它在集合中存在的时间长度。越新的项越靠近“顶”,越老的项越靠近\n",
    "“底”。\n",
    "## 栈的抽象数据类型\n",
    "栈的抽象数据类型是由以下结构和操作定义的。堆栈是结构化的,如上面所描述的,栈是一\n",
    "个有序的项的集,项添加和删除的一端称为“顶”。栈的命令是按后进先出进行的。栈的操作如\n",
    "下:\n",
    "\n",
    "Stack()创建一个新的空栈。它不需要参数,并返回一个空栈。\n",
    "\n",
    "Push(item)将新项添加到堆栈的顶部。它需要参数 item 并且没有返回值。\n",
    "\n",
    "pop()从栈顶删除项目。它不需要参数,返回 item。栈被修改。\n",
    "\n",
    "peek()返回栈顶的项,不删除它。它不需要参数。堆栈不被修改。\n",
    "\n",
    "isEmpty()测试看栈是否为空。它不需要参数,返回一个布尔值。\n",
    "\n",
    "size()返回栈的项目数。它不需要参数,返回一个整数。\n",
    "\n",
    "相关简单操作如下:\n",
    "![stack1](imgs/stack1.png)\n",
    "![stack2](imgs/stack2.png)"
   ]
  },
  {
   "cell_type": "markdown",
   "metadata": {},
   "source": [
    "# 队列\n",
    "队列(Queue)是一系列有顺序的元素的集合,新元素的加入在队列的一端,这一端叫做“队尾”\n",
    "(rear),已有元素的移除发生在队列的另一端,叫做“队首”(front)。当一个元素被加入到队列之\n",
    "后,它就从队尾开始向队首前进,直到它成为下一个即将被移出队列的元素。\n",
    "最新被加入的元素必须处于队尾,在队列停留最长时间的元素处于队首。这种原则有时候叫做\n",
    "“先进先出”(FIFO, first-in first-out),有时候也叫做“先到先服务”。\n",
    "## 抽 象 数 据 类 型 QUEUE( 队 列 )\n",
    "Queue()创建一个空队列对象,无需参数,返回空的队列;\n",
    "\n",
    "enqueue(item)将数据项添加到队尾,无返回值;\n",
    "\n",
    "dequeue()从队首移除数据项,无需参数,返回值为队首数据项;\n",
    "\n",
    "isEmpty()测试是否为空队列,无需参数,返回值为布尔值;\n",
    "\n",
    "size()返回队列中的数据项的个数,无需参数。\n",
    "![queue](imgs/queue.png)\n"
   ]
  },
  {
   "cell_type": "code",
   "execution_count": 2,
   "metadata": {},
   "outputs": [
    {
     "name": "stdout",
     "output_type": "stream",
     "text": [
      "3\n"
     ]
    }
   ],
   "source": [
    "class Queue:\n",
    "    def __init__(self):\n",
    "        self.items = []\n",
    "    def isEmpty(self):\n",
    "        return self.items == []\n",
    "    def enqueue(self, item):\n",
    "        self.items.insert(0,item)\n",
    "    def dequeue(self):\n",
    "        return self.items.pop()\n",
    "    def size(self):\n",
    "        return len(self.items)\n",
    "    \n",
    "q = Queue()\n",
    "q.enqueue(4)\n",
    "q.enqueue('dog')\n",
    "q.enqueue(True)\n",
    "print(q.size())"
   ]
  },
  {
   "cell_type": "code",
   "execution_count": 4,
   "metadata": {},
   "outputs": [
    {
     "data": {
      "text/plain": [
       "4"
      ]
     },
     "execution_count": 4,
     "metadata": {},
     "output_type": "execute_result"
    }
   ],
   "source": [
    "q.size()\n",
    "q.isEmpty()\n",
    "q.enqueue(99)\n",
    "q.dequeue()\n"
   ]
  },
  {
   "cell_type": "markdown",
   "metadata": {},
   "source": [
    "## 热土豆问题"
   ]
  },
  {
   "cell_type": "code",
   "execution_count": 7,
   "metadata": {},
   "outputs": [
    {
     "name": "stdout",
     "output_type": "stream",
     "text": [
      "Susan\n"
     ]
    }
   ],
   "source": [
    "# from pythons.basic.queue import Queue\n",
    "\n",
    "def hotPotato(namelist, num):\n",
    "    simqueue = Queue()\n",
    "    for name in namelist:\n",
    "        simqueue.enqueue(name)\n",
    "    while simqueue.size() > 1:\n",
    "        for i in range(num):\n",
    "            simqueue.enqueue(simqueue.dequeue())\n",
    "        simqueue.dequeue()\n",
    "    return simqueue.dequeue()\n",
    "\n",
    "print(hotPotato([\"Bill\",\"David\",\"Susan\",\"Jane\",\"Kent\",\"Brad\"],7))\n"
   ]
  }
 ],
 "metadata": {
  "kernelspec": {
   "display_name": "Python 3",
   "language": "python",
   "name": "python3"
  },
  "language_info": {
   "codemirror_mode": {
    "name": "ipython",
    "version": 3
   },
   "file_extension": ".py",
   "mimetype": "text/x-python",
   "name": "python",
   "nbconvert_exporter": "python",
   "pygments_lexer": "ipython3",
   "version": "3.7.1"
  }
 },
 "nbformat": 4,
 "nbformat_minor": 2
}
